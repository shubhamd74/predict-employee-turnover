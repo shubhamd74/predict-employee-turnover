{
 "cells": [
  {
   "cell_type": "code",
   "execution_count": 15,
   "id": "b1d7a279",
   "metadata": {},
   "outputs": [],
   "source": [
    "import numpy as np\n",
    "import pickle\n",
    "import pandas as pd\n",
    "#import streamlit as st \n",
    "from PIL import Image"
   ]
  },
  {
   "cell_type": "code",
   "execution_count": 16,
   "id": "f0b31068",
   "metadata": {},
   "outputs": [],
   "source": [
    "pickle_in = open(\"classifier.pkl\",\"rb\")\n",
    "classifier=pickle.load(pickle_in)"
   ]
  },
  {
   "cell_type": "code",
   "execution_count": 17,
   "id": "0b48dba6",
   "metadata": {},
   "outputs": [],
   "source": [
    "def predict_turnover(input_data):\n",
    "    df = pd.DataFrame(input_data, columns = ['satisfaction_level','last_evaluation','number_project','average_montly_hours','time_spend_company','Work_accident','promotion_last_5years','department','salary'])\n",
    "    prediction=classifier.predict(df)\n",
    "    print(prediction)\n",
    "    if prediction == 0:\n",
    "        return \"Emloyee won't leave company\"\n",
    "    return \"Employee may leave the company soon\""
   ]
  },
  {
   "cell_type": "code",
   "execution_count": 18,
   "id": "0a25cfed",
   "metadata": {},
   "outputs": [],
   "source": [
    "input_f = np.array([0.8,0.5,2,150,3,0,0,6,1])\n",
    "input_f = input_f.reshape(1,-1)"
   ]
  },
  {
   "cell_type": "code",
   "execution_count": null,
   "id": "4e18436f",
   "metadata": {},
   "outputs": [],
   "source": [
    "df = pd.DataFrame(input_f, columns = ['satisfaction_level','last_evaluation','number_project','average_montly_hours','time_spend_company','Work_accident','promotion_last_5years','department','salary'])"
   ]
  },
  {
   "cell_type": "code",
   "execution_count": 19,
   "id": "4afc7364",
   "metadata": {},
   "outputs": [
    {
     "name": "stdout",
     "output_type": "stream",
     "text": [
      "[0]\n"
     ]
    }
   ],
   "source": [
    "result = predict_turnover(input_f)"
   ]
  },
  {
   "cell_type": "code",
   "execution_count": 20,
   "id": "702e4b67",
   "metadata": {},
   "outputs": [
    {
     "data": {
      "text/plain": [
       "\"Emloyee won't leave company\""
      ]
     },
     "execution_count": 20,
     "metadata": {},
     "output_type": "execute_result"
    }
   ],
   "source": [
    "result"
   ]
  },
  {
   "cell_type": "code",
   "execution_count": null,
   "id": "4012a00c",
   "metadata": {},
   "outputs": [],
   "source": [
    "def department_val(option):\n",
    "    if option == 'IT':\n",
    "        return 0\n",
    "    elif option == 'RandD':\n",
    "        return 1\n",
    "    elif option == 'accounting':\n",
    "        return 2\n",
    "    elif option == 'hr':\n",
    "        return 3\n",
    "    elif option == 'management':\n",
    "        return 4\n",
    "    elif option == 'marketing':\n",
    "        return 5\n",
    "    elif option == 'product_mng':\n",
    "        return 6\n",
    "    elif option == 'sales':\n",
    "        return 7\n",
    "    elif option == 'support':\n",
    "        return 8\n",
    "    elif option == 'technical':\n",
    "        return 9\n",
    "    "
   ]
  },
  {
   "cell_type": "code",
   "execution_count": null,
   "id": "4436dd39",
   "metadata": {},
   "outputs": [],
   "source": [
    "def salary_val(option1):\n",
    "    if option1 == 'high':\n",
    "        return 0\n",
    "    elif option1 == 'low':\n",
    "        return 1\n",
    "    if option1 == 'medium':\n",
    "        return 2"
   ]
  },
  {
   "cell_type": "code",
   "execution_count": null,
   "id": "a885890d",
   "metadata": {},
   "outputs": [],
   "source": [
    "def main():\n",
    "    st.title(\"Bank Authenticator\")\n",
    "    html_temp = \"\"\"\n",
    "    <div style=\"background-color:tomato;padding:10px\">\n",
    "    <h2 style=\"color:white;text-align:center;\">Streamlit Bank Authenticator ML App </h2>\n",
    "    </div>\n",
    "    \"\"\"\n",
    "    list=[]\n",
    "    st.markdown(html_temp,unsafe_allow_html=True)\n",
    "    input1 = st.number_input(\"Enter satisfaction level\",0,1)\n",
    "    input2 = st.number_input(\"last evaluation\",0,1)\n",
    "    input3 = st.number_input(\"number of projects\",0,10)\n",
    "    input4 = st.number_input(\"monthly working hours\",0,300)\n",
    "    input5 = st.number_input(\"time spent in company\",0,20)\n",
    "    input6 = st.number_input(\"work accident\",0,1)\n",
    "    input7 = st.number_input(\"Promotion from last 5 years\",0,1)\n",
    "    \n",
    "    \n",
    "    \n",
    "    option = st.selectbox(\n",
    "     'Select Department',\n",
    "     ('sales' 'accounting' 'hr' 'technical' 'support' 'management' 'IT'\n",
    " 'product_mng' 'marketing' 'RandD'))\n",
    "    \n",
    "    input8 = department_val(option)\n",
    "    \n",
    "    option1 = st.selectbox(\n",
    "      'Salary Range',\n",
    "      ('Low', 'Medium', 'High'))\n",
    "    \n",
    "    input9 = salary_val(option1)\n",
    "    \n",
    "    inputs = []\n",
    "    inputs.append(input1)\n",
    "    inputs.append(input2)\n",
    "    inputs.append(input3)\n",
    "    inputs.append(input4)\n",
    "    inputs.append(input5)\n",
    "    inputs.append(input6)\n",
    "    inputs.append(input7)\n",
    "    inputs.append(input8)\n",
    "    inputs.append(input9)\n",
    "    inputs = np.array(inputs)\n",
    "    result=\"\"\n",
    "    if st.button(\"Predict\"):\n",
    "        result=predict_turnover(inputs)\n",
    "    st.success('The output is {}'.format(result))\n",
    "    if st.button(\"About\"):\n",
    "        st.text(\"Lets LEarn\")\n",
    "        st.text(\"Built with Streamlit\")\n",
    "\n",
    "if __name__=='__main__':\n",
    "    main()\n",
    "    "
   ]
  }
 ],
 "metadata": {
  "kernelspec": {
   "display_name": "Python 3 (ipykernel)",
   "language": "python",
   "name": "python3"
  },
  "language_info": {
   "codemirror_mode": {
    "name": "ipython",
    "version": 3
   },
   "file_extension": ".py",
   "mimetype": "text/x-python",
   "name": "python",
   "nbconvert_exporter": "python",
   "pygments_lexer": "ipython3",
   "version": "3.9.7"
  }
 },
 "nbformat": 4,
 "nbformat_minor": 5
}
